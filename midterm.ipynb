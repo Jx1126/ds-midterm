{
 "cells": [
  {
   "cell_type": "markdown",
   "metadata": {},
   "source": [
    "## CM3005 - Data Science Midterm"
   ]
  },
  {
   "cell_type": "markdown",
   "metadata": {},
   "source": [
    "### Task 1: Domain-Specific Area and Project Objectives\n",
    "\n",
    "This project focuses on the environmental health research, addressing the challenge of dengue fever prediction in environments with tropical climate. Dengue fever still remains a health challenge in Singapore, with its tropical climate, it creates an ideal conditions for disease transmission. The desease outbreaks poses risks to the population health and healthare resources. This project aims to develop a linear regression model that extinguish the relationship between weather and dengue cases, allowing us to predict and mitigate the disease outbreaks.\n",
    "\n",
    "Linear regression is an approach that helps us understand how different factors can have some form of relationship that may leads to some serious causes. In this project, this approach allows us to examine the relationship between weather conditions and disease transmission. By analysing weather temperature, rainfall, windspeed, the linear regression model can identify environmental factors that contributes to disease spread. By understanding the factors and relationship, the model will provide a tool for predicting disease outbreak possibilities.\n",
    "\n",
    "By utilising the linear regression model, the research addressed the challenge where the predictive capabilities in current disease monitering systems are limited. With the linear regression model, it creates an early warning system for the relevant authorities for potential dengue outbreaks. This system allows the relevant authorities to implement prevention strategies, as well as spreading awareness to the public improve the community health preparedness.\n"
   ]
  }
 ],
 "metadata": {
  "kernelspec": {
   "display_name": "Python 3",
   "language": "python",
   "name": "python3"
  },
  "language_info": {
   "codemirror_mode": {
    "name": "ipython",
    "version": 3
   },
   "file_extension": ".py",
   "mimetype": "text/x-python",
   "name": "python",
   "nbconvert_exporter": "python",
   "pygments_lexer": "ipython3",
   "version": "3.13.0"
  }
 },
 "nbformat": 4,
 "nbformat_minor": 2
}
