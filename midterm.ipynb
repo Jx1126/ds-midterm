{
 "cells": [
  {
   "cell_type": "markdown",
   "metadata": {},
   "source": [
    "# CM3005 - Data Science Midterm"
   ]
  },
  {
   "cell_type": "markdown",
   "metadata": {},
   "source": [
    "## Task 1: Domain-Specific Area and Project Objectives\n",
    "\n",
    "This project focuses on the environmental health research, addressing the challenge of dengue fever prediction in environments with tropical climate. Dengue fever still remains a health challenge in Singapore, with its tropical climate, it creates an ideal conditions for disease transmission. The desease outbreaks poses risks to the population health and healthare resources. This project aims to develop a linear regression model that extinguish the relationship between weather and dengue cases, allowing us to predict and mitigate the disease outbreaks.\n",
    "\n",
    "Linear regression is an approach that helps us understand how different factors can have some form of relationship that may leads to some serious causes. In this project, this approach allows us to examine the relationship between weather conditions and disease transmission. By analysing weather temperature, rainfall, windspeed, the linear regression model can identify environmental factors that contributes to disease spread. By understanding the factors and relationship, the model will provide a tool for predicting disease outbreak possibilities.\n",
    "\n",
    "By utilising the linear regression model, the research addressed the challenge where the predictive capabilities in current disease monitering systems are limited. With the linear regression model, it creates an early warning system for the relevant authorities for potential dengue outbreaks. This system allows the relevant authorities to implement prevention strategies, as well as spreading awareness to the public improve the community health preparedness.\n"
   ]
  },
  {
   "cell_type": "markdown",
   "metadata": {},
   "source": [
    "## Task 2: Dataset Description\n",
    "This project utilises a dataset that contains two CSV, namely `sg_weather_record` and `sg_dengue_record`.\n",
    "\n",
    "**1. Singapore Weather Data `(sg_weather_record)`:**\n",
    "\n",
    "Singapore weather dataset, collected by the National Environment Agency (NEA) of Singapore providing Singapore's historical daily weather records ranging from 2009 to 2017. This dataset was acquired from a public source at Singapore's Open Data Portal, ensuring that the data is accurate and reliable. The data were stored in a CSV file, containing approximately 2800 entries.\n",
    "\n",
    "Data Source:\n",
    "https://data.gov.sg/datasets?resultId=d_03bb2eb67ad645d0188342fa74ad7066&page=1\n",
    "\n",
    "Column Legend:\n",
    "|           Title          |        Column name       |     Data type     | Unit of measure |\n",
    "|:------------------------:|:------------------------:|:-----------------:|:---------------:|\n",
    "| Date                     | date                     | Date (YYYY-MM-DD) | -               |\n",
    "| Station                  | station                  | Text              | -               |\n",
    "| Daily rainfall total     | daily_rainfall_total     | Numeric           | mm              |\n",
    "| Highest 30 min rainfall  | highest_30_min_rainfall  | Numeric           | mm              |\n",
    "| Highest 60 min rainfall  | highest_60_min_rainfall  | Numeric           | mm              |\n",
    "| Highest 120 min rainfall | highest_120_min_rainfall | Numeric           | mm              |\n",
    "| Mean temperature         | mean_temperature         | Numeric           | Degrees celcius |\n",
    "| Maximum temperature      | maximum_temperature      | Numeric           | Degrees celcius |\n",
    "| Minimum temperature      | minimum_temperature      | Numeric           | Degrees celcius |\n",
    "| Mean wind speed          | mean_wind_speed          | Numeric           | Km/h            |\n",
    "| Max wind speed           | max_wind_speed           | Numeric           | Km/h            |\n",
    "\n",
    "<br>\n",
    "\n",
    "**2. Singapore Dengue Outbreak Data `(sg_weather_record)`:**\n",
    "\n",
    "Singapore dengue outbreak dataset, collected by the Ministry of Health (MOH) of Singapore providing weekly number of lab-confirmed dengue and dengue haemorrhagic fever cases from 2014 to 2018 in Singapore. This dataset was acquired from a public source at Singapore's Open Data Portal, ensuring that the data is accurate and reliable. The data were stored in a CSV file, containing approximately 530 entries.\n",
    "\n",
    "Data Source:\n",
    "https://data.gov.sg/datasets?resultId=d_ac1eecf0886ff0bceefbc51556247015&page=1\n",
    "\n",
    "Column Legend:\n",
    "|    Title    | Column name |  Data type  | Unit of measure |\n",
    "|:-----------:|:-----------:|:-----------:|:---------------:|\n",
    "| Year        | year        | Year (YYYY) | -               |\n",
    "| Eweek       | eweek       | Numeric     | Week            |\n",
    "| Type dengue | type_dengue | Text        | -               |\n",
    "| Number      | number      | Text        | -               |"
   ]
  },
  {
   "cell_type": "markdown",
   "metadata": {},
   "source": [
    "## Task 3: Data Preparation\n",
    "\n",
    "Both of the data from the dataset were provided in the CSV file format, which is common way to store data in a tabular format. The weather dataset contains daily data, including redundant columns like windspeed, weather station and more, which I will remove to focus on the relevant data. Since the dengue dataset is arranged by epidemiological weeks (eweeks), while the weather dataset is daily, I will convert the weather data to match the eweek format by aggregating daily records into weekly data.\n",
    "The dengue dataset's structure with \"Type\" as the column header can result in repeated weather conditions and other information when merging both data in one dataset. To address this issue, I will also pivot the dengue data, creating two new separated columns for dengue and DHF cases. This change will avoid duplication of data when merging. Finally, I will merge both dataframe into a single dataframe by inner joining them based on year and eweek."
   ]
  },
  {
   "cell_type": "code",
   "execution_count": 87,
   "metadata": {},
   "outputs": [
    {
     "name": "stdout",
     "output_type": "stream",
     "text": [
      "Requirement already satisfied: pandas in c:\\users\\jinxu\\appdata\\local\\programs\\python\\python313\\lib\\site-packages (2.2.3)\n",
      "Requirement already satisfied: numpy>=1.26.0 in c:\\users\\jinxu\\appdata\\local\\programs\\python\\python313\\lib\\site-packages (from pandas) (2.2.0)\n",
      "Requirement already satisfied: python-dateutil>=2.8.2 in c:\\users\\jinxu\\appdata\\roaming\\python\\python313\\site-packages (from pandas) (2.9.0.post0)\n",
      "Requirement already satisfied: pytz>=2020.1 in c:\\users\\jinxu\\appdata\\local\\programs\\python\\python313\\lib\\site-packages (from pandas) (2024.2)\n",
      "Requirement already satisfied: tzdata>=2022.7 in c:\\users\\jinxu\\appdata\\local\\programs\\python\\python313\\lib\\site-packages (from pandas) (2024.2)\n",
      "Requirement already satisfied: six>=1.5 in c:\\users\\jinxu\\appdata\\roaming\\python\\python313\\site-packages (from python-dateutil>=2.8.2->pandas) (1.17.0)\n",
      "Note: you may need to restart the kernel to use updated packages.\n"
     ]
    }
   ],
   "source": [
    "%pip install pandas"
   ]
  },
  {
   "cell_type": "code",
   "execution_count": 88,
   "metadata": {},
   "outputs": [],
   "source": [
    "import pandas as pd"
   ]
  },
  {
   "cell_type": "code",
   "execution_count": 89,
   "metadata": {},
   "outputs": [
    {
     "name": "stdout",
     "output_type": "stream",
     "text": [
      "\n",
      "Singapore Weather Data Information\n",
      "\n",
      "<class 'pandas.core.frame.DataFrame'>\n",
      "RangeIndex: 2859 entries, 0 to 2858\n",
      "Data columns (total 11 columns):\n",
      " #   Column                    Non-Null Count  Dtype \n",
      "---  ------                    --------------  ----- \n",
      " 0   date                      2859 non-null   object\n",
      " 1   station                   2859 non-null   object\n",
      " 2   daily_rainfall_total      2859 non-null   object\n",
      " 3   highest_30_min_rainfall   2859 non-null   object\n",
      " 4   highest_60_min_rainfall   2859 non-null   object\n",
      " 5   highest_120_min_rainfall  2859 non-null   object\n",
      " 6   mean_temperature          2859 non-null   object\n",
      " 7   maximum_temperature       2859 non-null   object\n",
      " 8   minimum_temperature       2859 non-null   object\n",
      " 9   mean_wind_speed           2859 non-null   object\n",
      " 10  max_wind_speed            2859 non-null   object\n",
      "dtypes: object(11)\n",
      "memory usage: 245.8+ KB\n",
      "\n",
      "Singapore Dengue Outbreak Dataset Information\n",
      "\n",
      "<class 'pandas.core.frame.DataFrame'>\n",
      "RangeIndex: 530 entries, 0 to 529\n",
      "Data columns (total 4 columns):\n",
      " #   Column       Non-Null Count  Dtype  \n",
      "---  ------       --------------  -----  \n",
      " 0   year         530 non-null    int64  \n",
      " 1   eweek        530 non-null    int64  \n",
      " 2   type_dengue  530 non-null    object \n",
      " 3   number       522 non-null    float64\n",
      "dtypes: float64(1), int64(2), object(1)\n",
      "memory usage: 16.7+ KB\n"
     ]
    }
   ],
   "source": [
    "# Path to the datasets\n",
    "weather_record_path = 'csv/sg_weather_record.csv'\n",
    "dengue_record_path = 'csv/sg_dengue_record.csv'\n",
    "\n",
    "# Load and read the datasets\n",
    "weather_data = pd.read_csv(weather_record_path)\n",
    "dengue_data = pd.read_csv(dengue_record_path)\n",
    "\n",
    "# Print the datasets information\n",
    "print('\\nSingapore Weather Data Information\\n')\n",
    "weather_data.info()\n",
    "print('\\nSingapore Dengue Outbreak Dataset Information\\n')\n",
    "dengue_data.info()"
   ]
  },
  {
   "cell_type": "code",
   "execution_count": 90,
   "metadata": {},
   "outputs": [
    {
     "name": "stdout",
     "output_type": "stream",
     "text": [
      "Displaying first five entry in weather dataset\n"
     ]
    },
    {
     "data": {
      "text/html": [
       "<div>\n",
       "<style scoped>\n",
       "    .dataframe tbody tr th:only-of-type {\n",
       "        vertical-align: middle;\n",
       "    }\n",
       "\n",
       "    .dataframe tbody tr th {\n",
       "        vertical-align: top;\n",
       "    }\n",
       "\n",
       "    .dataframe thead th {\n",
       "        text-align: right;\n",
       "    }\n",
       "</style>\n",
       "<table border=\"1\" class=\"dataframe\">\n",
       "  <thead>\n",
       "    <tr style=\"text-align: right;\">\n",
       "      <th></th>\n",
       "      <th>date</th>\n",
       "      <th>station</th>\n",
       "      <th>daily_rainfall_total</th>\n",
       "      <th>highest_30_min_rainfall</th>\n",
       "      <th>highest_60_min_rainfall</th>\n",
       "      <th>highest_120_min_rainfall</th>\n",
       "      <th>mean_temperature</th>\n",
       "      <th>maximum_temperature</th>\n",
       "      <th>minimum_temperature</th>\n",
       "      <th>mean_wind_speed</th>\n",
       "      <th>max_wind_speed</th>\n",
       "    </tr>\n",
       "  </thead>\n",
       "  <tbody>\n",
       "    <tr>\n",
       "      <th>0</th>\n",
       "      <td>2009-01-01</td>\n",
       "      <td>Admiralty</td>\n",
       "      <td>na</td>\n",
       "      <td>na</td>\n",
       "      <td>na</td>\n",
       "      <td>na</td>\n",
       "      <td>na</td>\n",
       "      <td>na</td>\n",
       "      <td>na</td>\n",
       "      <td>na</td>\n",
       "      <td>na</td>\n",
       "    </tr>\n",
       "    <tr>\n",
       "      <th>1</th>\n",
       "      <td>2009-01-02</td>\n",
       "      <td>Admiralty</td>\n",
       "      <td>na</td>\n",
       "      <td>na</td>\n",
       "      <td>na</td>\n",
       "      <td>na</td>\n",
       "      <td>na</td>\n",
       "      <td>na</td>\n",
       "      <td>na</td>\n",
       "      <td>na</td>\n",
       "      <td>na</td>\n",
       "    </tr>\n",
       "    <tr>\n",
       "      <th>2</th>\n",
       "      <td>2009-01-03</td>\n",
       "      <td>Admiralty</td>\n",
       "      <td>na</td>\n",
       "      <td>na</td>\n",
       "      <td>na</td>\n",
       "      <td>na</td>\n",
       "      <td>na</td>\n",
       "      <td>na</td>\n",
       "      <td>na</td>\n",
       "      <td>na</td>\n",
       "      <td>na</td>\n",
       "    </tr>\n",
       "    <tr>\n",
       "      <th>3</th>\n",
       "      <td>2009-01-04</td>\n",
       "      <td>Admiralty</td>\n",
       "      <td>na</td>\n",
       "      <td>na</td>\n",
       "      <td>na</td>\n",
       "      <td>na</td>\n",
       "      <td>na</td>\n",
       "      <td>na</td>\n",
       "      <td>na</td>\n",
       "      <td>na</td>\n",
       "      <td>na</td>\n",
       "    </tr>\n",
       "    <tr>\n",
       "      <th>4</th>\n",
       "      <td>2009-01-05</td>\n",
       "      <td>Admiralty</td>\n",
       "      <td>na</td>\n",
       "      <td>na</td>\n",
       "      <td>na</td>\n",
       "      <td>na</td>\n",
       "      <td>na</td>\n",
       "      <td>na</td>\n",
       "      <td>na</td>\n",
       "      <td>na</td>\n",
       "      <td>na</td>\n",
       "    </tr>\n",
       "  </tbody>\n",
       "</table>\n",
       "</div>"
      ],
      "text/plain": [
       "         date    station daily_rainfall_total highest_30_min_rainfall  \\\n",
       "0  2009-01-01  Admiralty                   na                      na   \n",
       "1  2009-01-02  Admiralty                   na                      na   \n",
       "2  2009-01-03  Admiralty                   na                      na   \n",
       "3  2009-01-04  Admiralty                   na                      na   \n",
       "4  2009-01-05  Admiralty                   na                      na   \n",
       "\n",
       "  highest_60_min_rainfall highest_120_min_rainfall mean_temperature  \\\n",
       "0                      na                       na               na   \n",
       "1                      na                       na               na   \n",
       "2                      na                       na               na   \n",
       "3                      na                       na               na   \n",
       "4                      na                       na               na   \n",
       "\n",
       "  maximum_temperature minimum_temperature mean_wind_speed max_wind_speed  \n",
       "0                  na                  na              na             na  \n",
       "1                  na                  na              na             na  \n",
       "2                  na                  na              na             na  \n",
       "3                  na                  na              na             na  \n",
       "4                  na                  na              na             na  "
      ]
     },
     "execution_count": 90,
     "metadata": {},
     "output_type": "execute_result"
    }
   ],
   "source": [
    "print('Displaying first five entry in weather dataset')\n",
    "weather_data.head()"
   ]
  },
  {
   "cell_type": "code",
   "execution_count": 91,
   "metadata": {},
   "outputs": [
    {
     "name": "stdout",
     "output_type": "stream",
     "text": [
      "Displaying first five entry in dengue dataset\n"
     ]
    },
    {
     "data": {
      "text/html": [
       "<div>\n",
       "<style scoped>\n",
       "    .dataframe tbody tr th:only-of-type {\n",
       "        vertical-align: middle;\n",
       "    }\n",
       "\n",
       "    .dataframe tbody tr th {\n",
       "        vertical-align: top;\n",
       "    }\n",
       "\n",
       "    .dataframe thead th {\n",
       "        text-align: right;\n",
       "    }\n",
       "</style>\n",
       "<table border=\"1\" class=\"dataframe\">\n",
       "  <thead>\n",
       "    <tr style=\"text-align: right;\">\n",
       "      <th></th>\n",
       "      <th>year</th>\n",
       "      <th>eweek</th>\n",
       "      <th>type_dengue</th>\n",
       "      <th>number</th>\n",
       "    </tr>\n",
       "  </thead>\n",
       "  <tbody>\n",
       "    <tr>\n",
       "      <th>0</th>\n",
       "      <td>2014</td>\n",
       "      <td>1</td>\n",
       "      <td>Dengue</td>\n",
       "      <td>436.0</td>\n",
       "    </tr>\n",
       "    <tr>\n",
       "      <th>1</th>\n",
       "      <td>2014</td>\n",
       "      <td>1</td>\n",
       "      <td>DHF</td>\n",
       "      <td>1.0</td>\n",
       "    </tr>\n",
       "    <tr>\n",
       "      <th>2</th>\n",
       "      <td>2014</td>\n",
       "      <td>2</td>\n",
       "      <td>Dengue</td>\n",
       "      <td>479.0</td>\n",
       "    </tr>\n",
       "    <tr>\n",
       "      <th>3</th>\n",
       "      <td>2014</td>\n",
       "      <td>2</td>\n",
       "      <td>DHF</td>\n",
       "      <td>0.0</td>\n",
       "    </tr>\n",
       "    <tr>\n",
       "      <th>4</th>\n",
       "      <td>2014</td>\n",
       "      <td>3</td>\n",
       "      <td>Dengue</td>\n",
       "      <td>401.0</td>\n",
       "    </tr>\n",
       "  </tbody>\n",
       "</table>\n",
       "</div>"
      ],
      "text/plain": [
       "   year  eweek type_dengue  number\n",
       "0  2014      1      Dengue   436.0\n",
       "1  2014      1         DHF     1.0\n",
       "2  2014      2      Dengue   479.0\n",
       "3  2014      2         DHF     0.0\n",
       "4  2014      3      Dengue   401.0"
      ]
     },
     "execution_count": 91,
     "metadata": {},
     "output_type": "execute_result"
    }
   ],
   "source": [
    "print('Displaying first five entry in dengue dataset')\n",
    "dengue_data.head()"
   ]
  },
  {
   "cell_type": "code",
   "execution_count": 92,
   "metadata": {},
   "outputs": [
    {
     "data": {
      "text/html": [
       "<div>\n",
       "<style scoped>\n",
       "    .dataframe tbody tr th:only-of-type {\n",
       "        vertical-align: middle;\n",
       "    }\n",
       "\n",
       "    .dataframe tbody tr th {\n",
       "        vertical-align: top;\n",
       "    }\n",
       "\n",
       "    .dataframe thead th {\n",
       "        text-align: right;\n",
       "    }\n",
       "</style>\n",
       "<table border=\"1\" class=\"dataframe\">\n",
       "  <thead>\n",
       "    <tr style=\"text-align: right;\">\n",
       "      <th></th>\n",
       "      <th>date</th>\n",
       "      <th>daily_rainfall_total</th>\n",
       "      <th>mean_temperature</th>\n",
       "      <th>maximum_temperature</th>\n",
       "      <th>minimum_temperature</th>\n",
       "    </tr>\n",
       "  </thead>\n",
       "  <tbody>\n",
       "    <tr>\n",
       "      <th>0</th>\n",
       "      <td>2009-01-01</td>\n",
       "      <td>na</td>\n",
       "      <td>na</td>\n",
       "      <td>na</td>\n",
       "      <td>na</td>\n",
       "    </tr>\n",
       "    <tr>\n",
       "      <th>1</th>\n",
       "      <td>2009-01-02</td>\n",
       "      <td>na</td>\n",
       "      <td>na</td>\n",
       "      <td>na</td>\n",
       "      <td>na</td>\n",
       "    </tr>\n",
       "    <tr>\n",
       "      <th>2</th>\n",
       "      <td>2009-01-03</td>\n",
       "      <td>na</td>\n",
       "      <td>na</td>\n",
       "      <td>na</td>\n",
       "      <td>na</td>\n",
       "    </tr>\n",
       "    <tr>\n",
       "      <th>3</th>\n",
       "      <td>2009-01-04</td>\n",
       "      <td>na</td>\n",
       "      <td>na</td>\n",
       "      <td>na</td>\n",
       "      <td>na</td>\n",
       "    </tr>\n",
       "    <tr>\n",
       "      <th>4</th>\n",
       "      <td>2009-01-05</td>\n",
       "      <td>na</td>\n",
       "      <td>na</td>\n",
       "      <td>na</td>\n",
       "      <td>na</td>\n",
       "    </tr>\n",
       "  </tbody>\n",
       "</table>\n",
       "</div>"
      ],
      "text/plain": [
       "         date daily_rainfall_total mean_temperature maximum_temperature  \\\n",
       "0  2009-01-01                   na               na                  na   \n",
       "1  2009-01-02                   na               na                  na   \n",
       "2  2009-01-03                   na               na                  na   \n",
       "3  2009-01-04                   na               na                  na   \n",
       "4  2009-01-05                   na               na                  na   \n",
       "\n",
       "  minimum_temperature  \n",
       "0                  na  \n",
       "1                  na  \n",
       "2                  na  \n",
       "3                  na  \n",
       "4                  na  "
      ]
     },
     "execution_count": 92,
     "metadata": {},
     "output_type": "execute_result"
    }
   ],
   "source": [
    "# Drop the columns that are not needed\n",
    "for cols in ['station', 'highest_30_min_rainfall','highest_60_min_rainfall', 'highest_120_min_rainfall', 'mean_wind_speed', 'max_wind_speed']:\n",
    "  weather_data = weather_data.drop(cols, axis = 1)\n",
    "\n",
    "weather_data.head()"
   ]
  },
  {
   "cell_type": "code",
   "execution_count": 93,
   "metadata": {},
   "outputs": [
    {
     "name": "stdout",
     "output_type": "stream",
     "text": [
      "<class 'pandas.core.frame.DataFrame'>\n",
      "Index: 2709 entries, 23 to 2847\n",
      "Data columns (total 5 columns):\n",
      " #   Column                Non-Null Count  Dtype  \n",
      "---  ------                --------------  -----  \n",
      " 0   date                  2709 non-null   object \n",
      " 1   daily_rainfall_total  2709 non-null   float64\n",
      " 2   mean_temperature      2709 non-null   float64\n",
      " 3   maximum_temperature   2709 non-null   float64\n",
      " 4   minimum_temperature   2709 non-null   float64\n",
      "dtypes: float64(4), object(1)\n",
      "memory usage: 127.0+ KB\n"
     ]
    }
   ],
   "source": [
    "# Convert the columns into numeric to replace the 'na' with NaN values\n",
    "for cols in ['daily_rainfall_total', 'mean_temperature', 'maximum_temperature', 'minimum_temperature']:\n",
    "  weather_data[cols] = pd.to_numeric(weather_data[cols], errors = 'coerce')\n",
    "\n",
    "# Drop the rows with NaN values\n",
    "weather_data = weather_data.dropna()\n",
    "weather_data.info()"
   ]
  },
  {
   "cell_type": "code",
   "execution_count": 94,
   "metadata": {},
   "outputs": [
    {
     "data": {
      "text/html": [
       "<div>\n",
       "<style scoped>\n",
       "    .dataframe tbody tr th:only-of-type {\n",
       "        vertical-align: middle;\n",
       "    }\n",
       "\n",
       "    .dataframe tbody tr th {\n",
       "        vertical-align: top;\n",
       "    }\n",
       "\n",
       "    .dataframe thead th {\n",
       "        text-align: right;\n",
       "    }\n",
       "</style>\n",
       "<table border=\"1\" class=\"dataframe\">\n",
       "  <thead>\n",
       "    <tr style=\"text-align: right;\">\n",
       "      <th></th>\n",
       "      <th>date</th>\n",
       "      <th>daily_rainfall_total</th>\n",
       "      <th>mean_temperature</th>\n",
       "      <th>maximum_temperature</th>\n",
       "      <th>minimum_temperature</th>\n",
       "      <th>Year</th>\n",
       "      <th>Eweek</th>\n",
       "    </tr>\n",
       "  </thead>\n",
       "  <tbody>\n",
       "    <tr>\n",
       "      <th>23</th>\n",
       "      <td>2009-01-24</td>\n",
       "      <td>0.0</td>\n",
       "      <td>26.8</td>\n",
       "      <td>31.4</td>\n",
       "      <td>24.4</td>\n",
       "      <td>2009</td>\n",
       "      <td>4</td>\n",
       "    </tr>\n",
       "    <tr>\n",
       "      <th>24</th>\n",
       "      <td>2009-01-25</td>\n",
       "      <td>0.8</td>\n",
       "      <td>25.9</td>\n",
       "      <td>27.8</td>\n",
       "      <td>24.4</td>\n",
       "      <td>2009</td>\n",
       "      <td>4</td>\n",
       "    </tr>\n",
       "    <tr>\n",
       "      <th>25</th>\n",
       "      <td>2009-01-26</td>\n",
       "      <td>0.0</td>\n",
       "      <td>25.9</td>\n",
       "      <td>29.6</td>\n",
       "      <td>23.7</td>\n",
       "      <td>2009</td>\n",
       "      <td>5</td>\n",
       "    </tr>\n",
       "    <tr>\n",
       "      <th>27</th>\n",
       "      <td>2009-01-28</td>\n",
       "      <td>0.0</td>\n",
       "      <td>26.6</td>\n",
       "      <td>31.9</td>\n",
       "      <td>23.7</td>\n",
       "      <td>2009</td>\n",
       "      <td>5</td>\n",
       "    </tr>\n",
       "    <tr>\n",
       "      <th>28</th>\n",
       "      <td>2009-01-29</td>\n",
       "      <td>0.0</td>\n",
       "      <td>26.3</td>\n",
       "      <td>30.0</td>\n",
       "      <td>23.9</td>\n",
       "      <td>2009</td>\n",
       "      <td>5</td>\n",
       "    </tr>\n",
       "  </tbody>\n",
       "</table>\n",
       "</div>"
      ],
      "text/plain": [
       "         date  daily_rainfall_total  mean_temperature  maximum_temperature  \\\n",
       "23 2009-01-24                   0.0              26.8                 31.4   \n",
       "24 2009-01-25                   0.8              25.9                 27.8   \n",
       "25 2009-01-26                   0.0              25.9                 29.6   \n",
       "27 2009-01-28                   0.0              26.6                 31.9   \n",
       "28 2009-01-29                   0.0              26.3                 30.0   \n",
       "\n",
       "    minimum_temperature  Year  Eweek  \n",
       "23                 24.4  2009      4  \n",
       "24                 24.4  2009      4  \n",
       "25                 23.7  2009      5  \n",
       "27                 23.7  2009      5  \n",
       "28                 23.9  2009      5  "
      ]
     },
     "execution_count": 94,
     "metadata": {},
     "output_type": "execute_result"
    }
   ],
   "source": [
    "# Convert the date column to pandas datetime format\n",
    "weather_data['date'] = pd.to_datetime(weather_data['date'])\n",
    "\n",
    "# Get the year from the date\n",
    "weather_data['Year'] = weather_data['date'].dt.year\n",
    "\n",
    "# Get the Eweek from the date\n",
    "# Reference: https://stackoverflow.com/a/31181358\n",
    "weather_data['Eweek'] = weather_data['date'].dt.isocalendar().week\n",
    "\n",
    "weather_data.head()"
   ]
  },
  {
   "cell_type": "code",
   "execution_count": 95,
   "metadata": {},
   "outputs": [
    {
     "data": {
      "text/html": [
       "<div>\n",
       "<style scoped>\n",
       "    .dataframe tbody tr th:only-of-type {\n",
       "        vertical-align: middle;\n",
       "    }\n",
       "\n",
       "    .dataframe tbody tr th {\n",
       "        vertical-align: top;\n",
       "    }\n",
       "\n",
       "    .dataframe thead th {\n",
       "        text-align: right;\n",
       "    }\n",
       "</style>\n",
       "<table border=\"1\" class=\"dataframe\">\n",
       "  <thead>\n",
       "    <tr style=\"text-align: right;\">\n",
       "      <th></th>\n",
       "      <th>Year</th>\n",
       "      <th>Eweek</th>\n",
       "      <th>Weekly Rainfall</th>\n",
       "      <th>Mean Temperature</th>\n",
       "      <th>Maximum Temperature</th>\n",
       "      <th>Minimum Temperature</th>\n",
       "    </tr>\n",
       "  </thead>\n",
       "  <tbody>\n",
       "    <tr>\n",
       "      <th>0</th>\n",
       "      <td>2009</td>\n",
       "      <td>4</td>\n",
       "      <td>0.8</td>\n",
       "      <td>26.350000</td>\n",
       "      <td>31.4</td>\n",
       "      <td>24.4</td>\n",
       "    </tr>\n",
       "    <tr>\n",
       "      <th>1</th>\n",
       "      <td>2009</td>\n",
       "      <td>5</td>\n",
       "      <td>0.0</td>\n",
       "      <td>26.316667</td>\n",
       "      <td>31.9</td>\n",
       "      <td>23.7</td>\n",
       "    </tr>\n",
       "    <tr>\n",
       "      <th>2</th>\n",
       "      <td>2009</td>\n",
       "      <td>6</td>\n",
       "      <td>2.8</td>\n",
       "      <td>26.328571</td>\n",
       "      <td>31.9</td>\n",
       "      <td>23.5</td>\n",
       "    </tr>\n",
       "    <tr>\n",
       "      <th>3</th>\n",
       "      <td>2009</td>\n",
       "      <td>7</td>\n",
       "      <td>21.8</td>\n",
       "      <td>27.400000</td>\n",
       "      <td>33.0</td>\n",
       "      <td>23.7</td>\n",
       "    </tr>\n",
       "    <tr>\n",
       "      <th>4</th>\n",
       "      <td>2009</td>\n",
       "      <td>8</td>\n",
       "      <td>37.0</td>\n",
       "      <td>27.185714</td>\n",
       "      <td>33.4</td>\n",
       "      <td>23.1</td>\n",
       "    </tr>\n",
       "  </tbody>\n",
       "</table>\n",
       "</div>"
      ],
      "text/plain": [
       "   Year  Eweek  Weekly Rainfall  Mean Temperature  Maximum Temperature  \\\n",
       "0  2009      4              0.8         26.350000                 31.4   \n",
       "1  2009      5              0.0         26.316667                 31.9   \n",
       "2  2009      6              2.8         26.328571                 31.9   \n",
       "3  2009      7             21.8         27.400000                 33.0   \n",
       "4  2009      8             37.0         27.185714                 33.4   \n",
       "\n",
       "   Minimum Temperature  \n",
       "0                 24.4  \n",
       "1                 23.7  \n",
       "2                 23.5  \n",
       "3                 23.7  \n",
       "4                 23.1  "
      ]
     },
     "execution_count": 95,
     "metadata": {},
     "output_type": "execute_result"
    }
   ],
   "source": [
    "# Group the weather data by year and Eweek\n",
    "weekly_weather_data = weather_data.groupby(['Year', 'Eweek'])\n",
    "\n",
    "# Aggregrate the data\n",
    "# Group the sum of daily_rainfall_total, mean of mean_temperature, max of maximum_temperature, min of minimum_temperature to the same year and eweek row\n",
    "weekly_weather_data = weekly_weather_data.agg({'daily_rainfall_total': 'sum', 'mean_temperature': 'mean', 'maximum_temperature': 'max', 'minimum_temperature': 'min'})\n",
    "\n",
    "# Reset the index\n",
    "weekly_weather_data.reset_index(inplace = True)\n",
    "\n",
    "# Rename the columns\n",
    "weekly_weather_data.rename(columns={'daily_rainfall_total': 'Weekly Rainfall', 'mean_temperature': 'Mean Temperature', 'maximum_temperature': 'Maximum Temperature', 'minimum_temperature': 'Minimum Temperature'}, inplace=True)\n",
    "\n",
    "weekly_weather_data.head()"
   ]
  },
  {
   "cell_type": "code",
   "execution_count": 96,
   "metadata": {},
   "outputs": [
    {
     "data": {
      "text/html": [
       "<div>\n",
       "<style scoped>\n",
       "    .dataframe tbody tr th:only-of-type {\n",
       "        vertical-align: middle;\n",
       "    }\n",
       "\n",
       "    .dataframe tbody tr th {\n",
       "        vertical-align: top;\n",
       "    }\n",
       "\n",
       "    .dataframe thead th {\n",
       "        text-align: right;\n",
       "    }\n",
       "</style>\n",
       "<table border=\"1\" class=\"dataframe\">\n",
       "  <thead>\n",
       "    <tr style=\"text-align: right;\">\n",
       "      <th></th>\n",
       "      <th>Year</th>\n",
       "      <th>Eweek</th>\n",
       "      <th>Type</th>\n",
       "      <th>Cases</th>\n",
       "    </tr>\n",
       "  </thead>\n",
       "  <tbody>\n",
       "    <tr>\n",
       "      <th>0</th>\n",
       "      <td>2014</td>\n",
       "      <td>1</td>\n",
       "      <td>Dengue</td>\n",
       "      <td>436.0</td>\n",
       "    </tr>\n",
       "    <tr>\n",
       "      <th>1</th>\n",
       "      <td>2014</td>\n",
       "      <td>1</td>\n",
       "      <td>DHF</td>\n",
       "      <td>1.0</td>\n",
       "    </tr>\n",
       "    <tr>\n",
       "      <th>2</th>\n",
       "      <td>2014</td>\n",
       "      <td>2</td>\n",
       "      <td>Dengue</td>\n",
       "      <td>479.0</td>\n",
       "    </tr>\n",
       "    <tr>\n",
       "      <th>3</th>\n",
       "      <td>2014</td>\n",
       "      <td>2</td>\n",
       "      <td>DHF</td>\n",
       "      <td>0.0</td>\n",
       "    </tr>\n",
       "    <tr>\n",
       "      <th>4</th>\n",
       "      <td>2014</td>\n",
       "      <td>3</td>\n",
       "      <td>Dengue</td>\n",
       "      <td>401.0</td>\n",
       "    </tr>\n",
       "  </tbody>\n",
       "</table>\n",
       "</div>"
      ],
      "text/plain": [
       "   Year  Eweek    Type  Cases\n",
       "0  2014      1  Dengue  436.0\n",
       "1  2014      1     DHF    1.0\n",
       "2  2014      2  Dengue  479.0\n",
       "3  2014      2     DHF    0.0\n",
       "4  2014      3  Dengue  401.0"
      ]
     },
     "execution_count": 96,
     "metadata": {},
     "output_type": "execute_result"
    }
   ],
   "source": [
    "# Rename the columns\n",
    "dengue_data = dengue_data.rename(columns={'year': 'Year', 'eweek': 'Eweek', 'type_dengue': 'Type', 'number': 'Cases'})\n",
    "\n",
    "# Convert cases column to numeric and replace the 'na' with NaN values\n",
    "dengue_data['Cases'] = pd.to_numeric(dengue_data['Cases'], errors = 'coerce')\n",
    "\n",
    "# Drop the rows with NaN values\n",
    "dengue_data = dengue_data.dropna()\n",
    "\n",
    "dengue_data.head()"
   ]
  },
  {
   "cell_type": "code",
   "execution_count": 97,
   "metadata": {},
   "outputs": [
    {
     "data": {
      "text/html": [
       "<div>\n",
       "<style scoped>\n",
       "    .dataframe tbody tr th:only-of-type {\n",
       "        vertical-align: middle;\n",
       "    }\n",
       "\n",
       "    .dataframe tbody tr th {\n",
       "        vertical-align: top;\n",
       "    }\n",
       "\n",
       "    .dataframe thead th {\n",
       "        text-align: right;\n",
       "    }\n",
       "</style>\n",
       "<table border=\"1\" class=\"dataframe\">\n",
       "  <thead>\n",
       "    <tr style=\"text-align: right;\">\n",
       "      <th>Type</th>\n",
       "      <th>Year</th>\n",
       "      <th>Eweek</th>\n",
       "      <th>DHF Cases</th>\n",
       "      <th>Dengue Cases</th>\n",
       "    </tr>\n",
       "  </thead>\n",
       "  <tbody>\n",
       "    <tr>\n",
       "      <th>0</th>\n",
       "      <td>2014</td>\n",
       "      <td>1</td>\n",
       "      <td>1.0</td>\n",
       "      <td>436.0</td>\n",
       "    </tr>\n",
       "    <tr>\n",
       "      <th>1</th>\n",
       "      <td>2014</td>\n",
       "      <td>2</td>\n",
       "      <td>0.0</td>\n",
       "      <td>479.0</td>\n",
       "    </tr>\n",
       "    <tr>\n",
       "      <th>2</th>\n",
       "      <td>2014</td>\n",
       "      <td>3</td>\n",
       "      <td>0.0</td>\n",
       "      <td>401.0</td>\n",
       "    </tr>\n",
       "    <tr>\n",
       "      <th>3</th>\n",
       "      <td>2014</td>\n",
       "      <td>4</td>\n",
       "      <td>0.0</td>\n",
       "      <td>336.0</td>\n",
       "    </tr>\n",
       "    <tr>\n",
       "      <th>4</th>\n",
       "      <td>2014</td>\n",
       "      <td>5</td>\n",
       "      <td>0.0</td>\n",
       "      <td>234.0</td>\n",
       "    </tr>\n",
       "  </tbody>\n",
       "</table>\n",
       "</div>"
      ],
      "text/plain": [
       "Type  Year  Eweek  DHF Cases  Dengue Cases\n",
       "0     2014      1        1.0         436.0\n",
       "1     2014      2        0.0         479.0\n",
       "2     2014      3        0.0         401.0\n",
       "3     2014      4        0.0         336.0\n",
       "4     2014      5        0.0         234.0"
      ]
     },
     "execution_count": 97,
     "metadata": {},
     "output_type": "execute_result"
    }
   ],
   "source": [
    "# Pivot the table so that the type column will be the column header to prevent duplicate data\n",
    "dengue_data = dengue_data.pivot(index=['Year', 'Eweek'], columns='Type', values='Cases')\n",
    "\n",
    "# Rename the columns\n",
    "dengue_data = dengue_data.rename(columns={'Dengue': 'Dengue Cases', 'DHF': 'DHF Cases'})\n",
    "\n",
    "# Reset the index\n",
    "dengue_data.reset_index(inplace=True)\n",
    "\n",
    "dengue_data.head()"
   ]
  },
  {
   "cell_type": "code",
   "execution_count": 98,
   "metadata": {},
   "outputs": [
    {
     "data": {
      "text/html": [
       "<div>\n",
       "<style scoped>\n",
       "    .dataframe tbody tr th:only-of-type {\n",
       "        vertical-align: middle;\n",
       "    }\n",
       "\n",
       "    .dataframe tbody tr th {\n",
       "        vertical-align: top;\n",
       "    }\n",
       "\n",
       "    .dataframe thead th {\n",
       "        text-align: right;\n",
       "    }\n",
       "</style>\n",
       "<table border=\"1\" class=\"dataframe\">\n",
       "  <thead>\n",
       "    <tr style=\"text-align: right;\">\n",
       "      <th></th>\n",
       "      <th>Year</th>\n",
       "      <th>Eweek</th>\n",
       "      <th>Weekly Rainfall</th>\n",
       "      <th>Mean Temperature</th>\n",
       "      <th>Maximum Temperature</th>\n",
       "      <th>Minimum Temperature</th>\n",
       "      <th>DHF Cases</th>\n",
       "      <th>Dengue Cases</th>\n",
       "    </tr>\n",
       "  </thead>\n",
       "  <tbody>\n",
       "    <tr>\n",
       "      <th>0</th>\n",
       "      <td>2014</td>\n",
       "      <td>1</td>\n",
       "      <td>13.0</td>\n",
       "      <td>25.825000</td>\n",
       "      <td>31.2</td>\n",
       "      <td>23.6</td>\n",
       "      <td>1.0</td>\n",
       "      <td>436.0</td>\n",
       "    </tr>\n",
       "    <tr>\n",
       "      <th>1</th>\n",
       "      <td>2014</td>\n",
       "      <td>2</td>\n",
       "      <td>86.6</td>\n",
       "      <td>26.157143</td>\n",
       "      <td>31.9</td>\n",
       "      <td>23.1</td>\n",
       "      <td>0.0</td>\n",
       "      <td>479.0</td>\n",
       "    </tr>\n",
       "    <tr>\n",
       "      <th>2</th>\n",
       "      <td>2014</td>\n",
       "      <td>3</td>\n",
       "      <td>0.2</td>\n",
       "      <td>25.757143</td>\n",
       "      <td>29.6</td>\n",
       "      <td>23.5</td>\n",
       "      <td>0.0</td>\n",
       "      <td>401.0</td>\n",
       "    </tr>\n",
       "    <tr>\n",
       "      <th>3</th>\n",
       "      <td>2014</td>\n",
       "      <td>4</td>\n",
       "      <td>0.0</td>\n",
       "      <td>25.271429</td>\n",
       "      <td>29.3</td>\n",
       "      <td>22.5</td>\n",
       "      <td>0.0</td>\n",
       "      <td>336.0</td>\n",
       "    </tr>\n",
       "    <tr>\n",
       "      <th>4</th>\n",
       "      <td>2014</td>\n",
       "      <td>5</td>\n",
       "      <td>0.0</td>\n",
       "      <td>25.671429</td>\n",
       "      <td>32.4</td>\n",
       "      <td>21.8</td>\n",
       "      <td>0.0</td>\n",
       "      <td>234.0</td>\n",
       "    </tr>\n",
       "  </tbody>\n",
       "</table>\n",
       "</div>"
      ],
      "text/plain": [
       "   Year  Eweek  Weekly Rainfall  Mean Temperature  Maximum Temperature  \\\n",
       "0  2014      1             13.0         25.825000                 31.2   \n",
       "1  2014      2             86.6         26.157143                 31.9   \n",
       "2  2014      3              0.2         25.757143                 29.6   \n",
       "3  2014      4              0.0         25.271429                 29.3   \n",
       "4  2014      5              0.0         25.671429                 32.4   \n",
       "\n",
       "   Minimum Temperature  DHF Cases  Dengue Cases  \n",
       "0                 23.6        1.0         436.0  \n",
       "1                 23.1        0.0         479.0  \n",
       "2                 23.5        0.0         401.0  \n",
       "3                 22.5        0.0         336.0  \n",
       "4                 21.8        0.0         234.0  "
      ]
     },
     "execution_count": 98,
     "metadata": {},
     "output_type": "execute_result"
    }
   ],
   "source": [
    "# Merge the weather and dengue data by inner join\n",
    "merged_data = pd.merge(weekly_weather_data, dengue_data, on=['Year', 'Eweek'], how = 'inner')\n",
    "merged_data.head()"
   ]
  },
  {
   "cell_type": "markdown",
   "metadata": {},
   "source": [
    "## Task 4: Statistical analysis\n",
    "\n",
    "Performing statistical analysis, which includes measuring the central tendency, spread as well as type of distribution of the merge dataset that merges the weather and dengue outbreak data allows us to understand the data patterns. This analysis will explore the key metrics to achieve useful insights by calculating different statistical metrics. By calculating the central tendency, such as mean, median and mode, it allows us to understand the values within each series that are common. Additionally, by measuring the spread, including variance, standard deviation and range will help us understand the dispersion of the data. Furthermore, skewness and krutosis calculation will also be performed to understand the nature of the data distribution. These analysis will allow us to identify patterns of the dataset, helping us to determine which statistical measures are important and are related to the weather and dengue outbreaks."
   ]
  },
  {
   "cell_type": "code",
   "execution_count": 99,
   "metadata": {},
   "outputs": [
    {
     "name": "stdout",
     "output_type": "stream",
     "text": [
      "^C\n",
      "Note: you may need to restart the kernel to use updated packages.\n"
     ]
    },
    {
     "name": "stdout",
     "output_type": "stream",
     "text": [
      "Requirement already satisfied: numpy in c:\\users\\jinxu\\appdata\\local\\programs\\python\\python313\\lib\\site-packages (2.2.0)\n"
     ]
    }
   ],
   "source": [
    "%pip install numpy"
   ]
  },
  {
   "cell_type": "code",
   "execution_count": 14,
   "metadata": {},
   "outputs": [],
   "source": [
    "import numpy as np"
   ]
  },
  {
   "cell_type": "markdown",
   "metadata": {},
   "source": [
    "### Measures of Central Tendancy"
   ]
  },
  {
   "cell_type": "code",
   "execution_count": 15,
   "metadata": {},
   "outputs": [
    {
     "name": "stdout",
     "output_type": "stream",
     "text": [
      "\n",
      "|---- Weekly Rainfall ----|\n",
      "- Mean: 37.759\n",
      "- Median: 30.000\n",
      "- Mode: 0    0.0\n",
      "Name: Weekly Rainfall, dtype: float64\n",
      "\n",
      "|---- Mean Temperature ----|\n",
      "- Mean: 27.760\n",
      "- Median: 27.764\n",
      "- Mode: 0    27.2\n",
      "Name: Mean Temperature, dtype: float64\n",
      "\n",
      "|---- Maximum Temperature ----|\n",
      "- Mean: 33.324\n",
      "- Median: 33.450\n",
      "- Mode: 0    33.9\n",
      "Name: Maximum Temperature, dtype: float64\n",
      "\n",
      "|---- Minimum Temperature ----|\n",
      "- Mean: 23.892\n",
      "- Median: 23.700\n",
      "- Mode: 0    23.3\n",
      "Name: Minimum Temperature, dtype: float64\n",
      "\n",
      "|---- Dengue Cases ----|\n",
      "- Mean: 227.317\n",
      "- Median: 212.000\n",
      "- Mode: 0    51.0\n",
      "Name: Dengue Cases, dtype: float64\n",
      "\n",
      "|---- DHF Cases ----|\n",
      "- Mean: 0.366\n",
      "- Median: 0.000\n",
      "- Mode: 0    0.0\n",
      "Name: DHF Cases, dtype: float64\n"
     ]
    }
   ],
   "source": [
    "# Columns to calculate the measures of central tendency, spread and type of distribution\n",
    "key_metrics = ['Weekly Rainfall', 'Mean Temperature', 'Maximum Temperature', 'Minimum Temperature', 'Dengue Cases', 'DHF Cases']\n",
    "\n",
    "# Calculate and print the measures of central tendency for the key metrics in 3 decimal places\n",
    "for key in key_metrics:\n",
    "  print('\\n|----', key, '----|')\n",
    "  print(f'- Mean: {merged_data[key].mean():.3f}')\n",
    "  print(f'- Median: {merged_data[key].median():.3f}')\n",
    "  print(f'- Mode: {merged_data[key].mode()}')"
   ]
  },
  {
   "cell_type": "markdown",
   "metadata": {},
   "source": [
    "**Analysis results from the Meaures of Central Tendancy**\n",
    "\n",
    "- **Weekly Rainfall:** The mean of 37.759mm and median of 30mm shows that weekly rainfall is moderate, though the mode of 0mm suggests that weeks with no rainfall are quite common.\n",
    "- **Mean Temperature:** The mean of 27.760°C and median of 27.764°C are close, which can be a common temperature in a country with tropical weather. The mode of 27.2°C shows a common temperature.\n",
    "- **Maximum Temperature:** The mean of 33.324°C and a median of 33.450°C shows a consistent of high maximum temperature, with a mode of 33.9°C.\n",
    "- **Minimum Temperature:** The mean of 23.892°C and a median of 23.7°C shows a rather low minimum temperate mostly during the night, with the mode of 23.3°C as the most frequent temperature.\n",
    "- **Dengue Cases:** The mean of 227.317 cases is significantly higher than the mode of 51 cases indicates that while lower case numbers are frequent, large outbreak occuring can raise the average significantly.\n",
    "- **DHF Cases:** The mean of 0.366 is rather low, and the median being 0 suggests that most weeks have no DHF cases, but some weeks may have spikes."
   ]
  },
  {
   "cell_type": "markdown",
   "metadata": {},
   "source": [
    "### Measures of Spread"
   ]
  },
  {
   "cell_type": "code",
   "execution_count": 16,
   "metadata": {},
   "outputs": [
    {
     "name": "stdout",
     "output_type": "stream",
     "text": [
      "\n",
      "|---- Weekly Rainfall ----|\n",
      "- Variance: 1188.824\n",
      "- Standard Deviation: 34.479\n",
      "- Range: 201.800\n",
      "\n",
      "|---- Mean Temperature ----|\n",
      "- Variance: 0.871\n",
      "- Standard Deviation: 0.933\n",
      "- Range: 4.629\n",
      "\n",
      "|---- Maximum Temperature ----|\n",
      "- Variance: 1.493\n",
      "- Standard Deviation: 1.222\n",
      "- Range: 7.000\n",
      "\n",
      "|---- Minimum Temperature ----|\n",
      "- Variance: 0.896\n",
      "- Standard Deviation: 0.947\n",
      "- Range: 5.500\n",
      "\n",
      "|---- Dengue Cases ----|\n",
      "- Variance: 30102.905\n",
      "- Standard Deviation: 173.502\n",
      "- Range: 856.000\n",
      "\n",
      "|---- DHF Cases ----|\n",
      "- Variance: 0.430\n",
      "- Standard Deviation: 0.656\n",
      "- Range: 4.000\n"
     ]
    }
   ],
   "source": [
    "# Calculate and print the measures of spread for the key metrics in 3 decimal places\n",
    "for key in key_metrics:\n",
    "  print('\\n|----', key, '----|')\n",
    "  print(f'- Variance: {merged_data[key].var():.3f}')\n",
    "  print(f'- Standard Deviation: {merged_data[key].std():.3f}')\n",
    "  print(f'- Range: {(merged_data[key].max() - merged_data[key].min()):.3f}')"
   ]
  },
  {
   "cell_type": "markdown",
   "metadata": {},
   "source": [
    "**Analysis results from the Meaures of Spread**\n",
    "- **Weekly Rainfall:** The high variance of 1188.824 and standard deviation of 34.479 indicates a significant fluctuation in weekly rainfall. The range of 201.8mm shows some occasional heavy rainfall.\n",
    "- **Mean Temperature:** The variance of 0.871 and standard deviation of 0.933 suggest  that weekly mean temperatures remain relatively consistent with only 4.629°C fluctuation.\n",
    "- **Maximum Temperature:** The variance of 1.493 and standard deviation of 1.222 shows a occasional rise in peak temperature with the range of 7°C.\n",
    "- **Minimum Temperature:** The low variance of 0.896 and standard deviation of 0.947 indicates stable minimum temperature with only around 5.5°C range in temperatures.\n",
    "- **Dengue Cases:** The high variance of 30102.905 and standard deviation of 173.502 suggest that weekly dengue cases fluctuates significantly, with the peak 856 cases difference.\n",
    "- **DHF Cases:** The low variance of 0.430 but standard deviation of 0.656 shows occasional spikes of DHF cases despite weeks with no DHF cases."
   ]
  },
  {
   "cell_type": "markdown",
   "metadata": {},
   "source": [
    "### Type of Distribution"
   ]
  },
  {
   "cell_type": "code",
   "execution_count": 17,
   "metadata": {},
   "outputs": [
    {
     "name": "stdout",
     "output_type": "stream",
     "text": [
      "\n",
      "|---- Weekly Rainfall ----|\n",
      "- Skewness: 1.322\n",
      "- Kurtosis: 2.749\n",
      "\n",
      "|---- Mean Temperature ----|\n",
      "- Skewness: -0.099\n",
      "- Kurtosis: -0.307\n",
      "\n",
      "|---- Maximum Temperature ----|\n",
      "- Skewness: -0.743\n",
      "- Kurtosis: 1.261\n",
      "\n",
      "|---- Minimum Temperature ----|\n",
      "- Skewness: 0.530\n",
      "- Kurtosis: 0.258\n",
      "\n",
      "|---- Dengue Cases ----|\n",
      "- Skewness: 1.261\n",
      "- Kurtosis: 1.639\n",
      "\n",
      "|---- DHF Cases ----|\n",
      "- Skewness: 2.229\n",
      "- Kurtosis: 6.624\n"
     ]
    }
   ],
   "source": [
    "# Calculate and print the measures of skewness and kurtosis for the key metrics in 3 decimal places\n",
    "for key in key_metrics:\n",
    "  print('\\n|----', key, '----|')\n",
    "  print(f'- Skewness: {merged_data[key].skew():.3f}')\n",
    "  print(f'- Kurtosis: {merged_data[key].kurt():.3f}')"
   ]
  },
  {
   "cell_type": "markdown",
   "metadata": {},
   "source": [
    "**Analysis results from the Type of Distribution**\n",
    "- **Weekly Rainfall:** The positive skewness of 1.322 and kurtosis of 2.749 show that there are frequent light rainfalls and occasional heavy rainfall.\n",
    "- **Mean Temperature:** The skewness of -0.099 and kurtosis of -0.307 suggest a normal mean temperature distribution.\n",
    "- **Maximum Temperature:** The negative skewness of -0.743 and the positive kurtosis of 1.261 indicate that the data is left skewed, with lesser high maximum temperatures.\n",
    "- **Minimum Temperature:** The positive skewness of 0.530 shows a right skew, with the kurtosis of 0.258.\n",
    "- **Dengue Cases:** The positive skewness of 1.261 and kurtosis of 1.639 suggest there are weeks with low case counts but some occasional large outbreaks.\n",
    "- **DHF Cases:** The high positive skewer of 2.229 and kurtosis 6.624 indicate a distribution with many weeks of zero cases and a few big spikes.\n"
   ]
  },
  {
   "cell_type": "markdown",
   "metadata": {},
   "source": [
    "### Analysis of Findings\n",
    "1. **Dengue and DHF Cases:** The high skewness and variance in Dengue Cases and DHF Cases indicate that while most week have few cases, out breaks can lead to some significant spikes.\n",
    "\n",
    "2. **Weekly Rainfall:** The positive skewness and high variance in rainfall show that while weeks with light rainfall are common, weeks with high rainfall occur periodically, which might correlate with dengue outbreak.\n",
    "\n",
    "3. **Temperature:** The analysis shows that the temperatures have rather small fluctuations and close to normal distributions. This proves the consistent weather conditions for a tropical country. This allows us to focus on other factors, such as rainfalls, to be the more important factors of dengue outbreaks."
   ]
  },
  {
   "cell_type": "markdown",
   "metadata": {},
   "source": [
    "## Task 5: Data Visualisation"
   ]
  },
  {
   "cell_type": "code",
   "execution_count": null,
   "metadata": {},
   "outputs": [
    {
     "name": "stdout",
     "output_type": "stream",
     "text": [
      "Requirement already satisfied: seaborn in c:\\users\\jinxu\\appdata\\local\\programs\\python\\python313\\lib\\site-packages (0.13.2)\n",
      "Requirement already satisfied: numpy!=1.24.0,>=1.20 in c:\\users\\jinxu\\appdata\\local\\programs\\python\\python313\\lib\\site-packages (from seaborn) (2.2.0)\n",
      "Requirement already satisfied: pandas>=1.2 in c:\\users\\jinxu\\appdata\\local\\programs\\python\\python313\\lib\\site-packages (from seaborn) (2.2.3)\n",
      "Requirement already satisfied: matplotlib!=3.6.1,>=3.4 in c:\\users\\jinxu\\appdata\\local\\programs\\python\\python313\\lib\\site-packages (from seaborn) (3.10.0)\n",
      "Requirement already satisfied: contourpy>=1.0.1 in c:\\users\\jinxu\\appdata\\local\\programs\\python\\python313\\lib\\site-packages (from matplotlib!=3.6.1,>=3.4->seaborn) (1.3.1)\n",
      "Requirement already satisfied: cycler>=0.10 in c:\\users\\jinxu\\appdata\\local\\programs\\python\\python313\\lib\\site-packages (from matplotlib!=3.6.1,>=3.4->seaborn) (0.12.1)\n",
      "Requirement already satisfied: fonttools>=4.22.0 in c:\\users\\jinxu\\appdata\\local\\programs\\python\\python313\\lib\\site-packages (from matplotlib!=3.6.1,>=3.4->seaborn) (4.55.3)\n",
      "Requirement already satisfied: kiwisolver>=1.3.1 in c:\\users\\jinxu\\appdata\\local\\programs\\python\\python313\\lib\\site-packages (from matplotlib!=3.6.1,>=3.4->seaborn) (1.4.7)\n",
      "Requirement already satisfied: packaging>=20.0 in c:\\users\\jinxu\\appdata\\roaming\\python\\python313\\site-packages (from matplotlib!=3.6.1,>=3.4->seaborn) (24.2)\n",
      "Requirement already satisfied: pillow>=8 in c:\\users\\jinxu\\appdata\\local\\programs\\python\\python313\\lib\\site-packages (from matplotlib!=3.6.1,>=3.4->seaborn) (11.0.0)\n",
      "Requirement already satisfied: pyparsing>=2.3.1 in c:\\users\\jinxu\\appdata\\local\\programs\\python\\python313\\lib\\site-packages (from matplotlib!=3.6.1,>=3.4->seaborn) (3.2.0)\n",
      "Requirement already satisfied: python-dateutil>=2.7 in c:\\users\\jinxu\\appdata\\roaming\\python\\python313\\site-packages (from matplotlib!=3.6.1,>=3.4->seaborn) (2.9.0.post0)\n",
      "Requirement already satisfied: pytz>=2020.1 in c:\\users\\jinxu\\appdata\\local\\programs\\python\\python313\\lib\\site-packages (from pandas>=1.2->seaborn) (2024.2)\n",
      "Requirement already satisfied: tzdata>=2022.7 in c:\\users\\jinxu\\appdata\\local\\programs\\python\\python313\\lib\\site-packages (from pandas>=1.2->seaborn) (2024.2)\n",
      "Requirement already satisfied: six>=1.5 in c:\\users\\jinxu\\appdata\\roaming\\python\\python313\\site-packages (from python-dateutil>=2.7->matplotlib!=3.6.1,>=3.4->seaborn) (1.17.0)\n",
      "Note: you may need to restart the kernel to use updated packages.\n",
      "Requirement already satisfied: matplotlib in c:\\users\\jinxu\\appdata\\local\\programs\\python\\python313\\lib\\site-packages (3.10.0)\n",
      "Requirement already satisfied: contourpy>=1.0.1 in c:\\users\\jinxu\\appdata\\local\\programs\\python\\python313\\lib\\site-packages (from matplotlib) (1.3.1)\n",
      "Requirement already satisfied: cycler>=0.10 in c:\\users\\jinxu\\appdata\\local\\programs\\python\\python313\\lib\\site-packages (from matplotlib) (0.12.1)\n",
      "Requirement already satisfied: fonttools>=4.22.0 in c:\\users\\jinxu\\appdata\\local\\programs\\python\\python313\\lib\\site-packages (from matplotlib) (4.55.3)\n",
      "Requirement already satisfied: kiwisolver>=1.3.1 in c:\\users\\jinxu\\appdata\\local\\programs\\python\\python313\\lib\\site-packages (from matplotlib) (1.4.7)\n",
      "Requirement already satisfied: numpy>=1.23 in c:\\users\\jinxu\\appdata\\local\\programs\\python\\python313\\lib\\site-packages (from matplotlib) (2.2.0)\n",
      "Requirement already satisfied: packaging>=20.0 in c:\\users\\jinxu\\appdata\\roaming\\python\\python313\\site-packages (from matplotlib) (24.2)\n",
      "Requirement already satisfied: pillow>=8 in c:\\users\\jinxu\\appdata\\local\\programs\\python\\python313\\lib\\site-packages (from matplotlib) (11.0.0)\n",
      "Requirement already satisfied: pyparsing>=2.3.1 in c:\\users\\jinxu\\appdata\\local\\programs\\python\\python313\\lib\\site-packages (from matplotlib) (3.2.0)\n",
      "Requirement already satisfied: python-dateutil>=2.7 in c:\\users\\jinxu\\appdata\\roaming\\python\\python313\\site-packages (from matplotlib) (2.9.0.post0)\n",
      "Requirement already satisfied: six>=1.5 in c:\\users\\jinxu\\appdata\\roaming\\python\\python313\\site-packages (from python-dateutil>=2.7->matplotlib) (1.17.0)\n",
      "Note: you may need to restart the kernel to use updated packages.\n"
     ]
    }
   ],
   "source": [
    "%pip install seaborn\n",
    "%pip install matplotlib"
   ]
  },
  {
   "cell_type": "code",
   "execution_count": 19,
   "metadata": {},
   "outputs": [],
   "source": [
    "import seaborn as sns\n",
    "from matplotlib import pyplot as plt"
   ]
  },
  {
   "cell_type": "code",
   "execution_count": 53,
   "metadata": {},
   "outputs": [
    {
     "name": "stdout",
     "output_type": "stream",
     "text": [
      "Index(['Year', 'Eweek', 'Weekly Rainfall', 'Mean Temperature',\n",
      "       'Maximum Temperature', 'Minimum Temperature', 'DHF Cases',\n",
      "       'Dengue Cases', 'Timeline'],\n",
      "      dtype='object')\n"
     ]
    }
   ],
   "source": [
    "print(merged_data.columns)"
   ]
  },
  {
   "cell_type": "code",
   "execution_count": 54,
   "metadata": {},
   "outputs": [
    {
     "data": {
      "text/html": [
       "<div>\n",
       "<style scoped>\n",
       "    .dataframe tbody tr th:only-of-type {\n",
       "        vertical-align: middle;\n",
       "    }\n",
       "\n",
       "    .dataframe tbody tr th {\n",
       "        vertical-align: top;\n",
       "    }\n",
       "\n",
       "    .dataframe thead th {\n",
       "        text-align: right;\n",
       "    }\n",
       "</style>\n",
       "<table border=\"1\" class=\"dataframe\">\n",
       "  <thead>\n",
       "    <tr style=\"text-align: right;\">\n",
       "      <th></th>\n",
       "      <th>Year</th>\n",
       "      <th>Eweek</th>\n",
       "      <th>Weekly Rainfall</th>\n",
       "      <th>Mean Temperature</th>\n",
       "      <th>Maximum Temperature</th>\n",
       "      <th>Minimum Temperature</th>\n",
       "      <th>DHF Cases</th>\n",
       "      <th>Dengue Cases</th>\n",
       "      <th>Timeline</th>\n",
       "    </tr>\n",
       "  </thead>\n",
       "  <tbody>\n",
       "    <tr>\n",
       "      <th>0</th>\n",
       "      <td>2014</td>\n",
       "      <td>1</td>\n",
       "      <td>13.0</td>\n",
       "      <td>25.825000</td>\n",
       "      <td>31.2</td>\n",
       "      <td>23.6</td>\n",
       "      <td>1.0</td>\n",
       "      <td>436.0</td>\n",
       "      <td>2014-W1</td>\n",
       "    </tr>\n",
       "    <tr>\n",
       "      <th>1</th>\n",
       "      <td>2014</td>\n",
       "      <td>2</td>\n",
       "      <td>86.6</td>\n",
       "      <td>26.157143</td>\n",
       "      <td>31.9</td>\n",
       "      <td>23.1</td>\n",
       "      <td>0.0</td>\n",
       "      <td>479.0</td>\n",
       "      <td>2014-W2</td>\n",
       "    </tr>\n",
       "    <tr>\n",
       "      <th>2</th>\n",
       "      <td>2014</td>\n",
       "      <td>3</td>\n",
       "      <td>0.2</td>\n",
       "      <td>25.757143</td>\n",
       "      <td>29.6</td>\n",
       "      <td>23.5</td>\n",
       "      <td>0.0</td>\n",
       "      <td>401.0</td>\n",
       "      <td>2014-W3</td>\n",
       "    </tr>\n",
       "    <tr>\n",
       "      <th>3</th>\n",
       "      <td>2014</td>\n",
       "      <td>4</td>\n",
       "      <td>0.0</td>\n",
       "      <td>25.271429</td>\n",
       "      <td>29.3</td>\n",
       "      <td>22.5</td>\n",
       "      <td>0.0</td>\n",
       "      <td>336.0</td>\n",
       "      <td>2014-W4</td>\n",
       "    </tr>\n",
       "    <tr>\n",
       "      <th>4</th>\n",
       "      <td>2014</td>\n",
       "      <td>5</td>\n",
       "      <td>0.0</td>\n",
       "      <td>25.671429</td>\n",
       "      <td>32.4</td>\n",
       "      <td>21.8</td>\n",
       "      <td>0.0</td>\n",
       "      <td>234.0</td>\n",
       "      <td>2014-W5</td>\n",
       "    </tr>\n",
       "  </tbody>\n",
       "</table>\n",
       "</div>"
      ],
      "text/plain": [
       "   Year  Eweek  Weekly Rainfall  Mean Temperature  Maximum Temperature  \\\n",
       "0  2014      1             13.0         25.825000                 31.2   \n",
       "1  2014      2             86.6         26.157143                 31.9   \n",
       "2  2014      3              0.2         25.757143                 29.6   \n",
       "3  2014      4              0.0         25.271429                 29.3   \n",
       "4  2014      5              0.0         25.671429                 32.4   \n",
       "\n",
       "   Minimum Temperature  DHF Cases  Dengue Cases Timeline  \n",
       "0                 23.6        1.0         436.0  2014-W1  \n",
       "1                 23.1        0.0         479.0  2014-W2  \n",
       "2                 23.5        0.0         401.0  2014-W3  \n",
       "3                 22.5        0.0         336.0  2014-W4  \n",
       "4                 21.8        0.0         234.0  2014-W5  "
      ]
     },
     "execution_count": 54,
     "metadata": {},
     "output_type": "execute_result"
    }
   ],
   "source": [
    "merged_data.head()"
   ]
  },
  {
   "cell_type": "markdown",
   "metadata": {},
   "source": [
    "### Rainfall vs Dengue Cases (Scatter Plot with Regression Line)"
   ]
  },
  {
   "cell_type": "code",
   "execution_count": 86,
   "metadata": {},
   "outputs": [
    {
     "data": {
      "image/png": "[encoded data removed]",
      "text/plain": [
       "<Figure size 1000x500 with 1 Axes>"
      ]
     },
     "metadata": {},
     "output_type": "display_data"
    }
   ],
   "source": [
    "plt.figure(figsize = (10, 5))\n",
    "\n",
    "# Use the weekly rainfall and dengue cases from the merged dataset to plot the scatter plot\n",
    "sns.regplot(data = merged_data, x = 'Weekly Rainfall', y = 'Dengue Cases', line_kws = {\"color\": \"red\"})\n",
    "\n",
    "# Graph properties\n",
    "plt.title('Rainfall vs Dengue Cases')\n",
    "plt.xlabel('Weekly Rainfall (mm)')\n",
    "plt.ylabel('Dengue Cases')\n",
    "plt.grid()\n",
    "\n",
    "plt.show()"
   ]
  },
  {
   "cell_type": "markdown",
   "metadata": {},
   "source": [
    "**Analysis from Rainfall vs Dengue Cases (Scatter Plot with Regression Line)**\n",
    "\n",
    "The scatter plot with regression line shows the relationship between weekly rainfall and dengue cases. The X-axis shows the the weekly rainfall in milimeters, while the Y-axis shows the number of dengue cases. Each of the blue dot represents to a weekly data of the number of dengue cases with various rainfall sizes. The red regression line shows a slight positive correlation of the rainfall and dengue cases, which means that increased rainfall can caused dengue cases to rise. The half transparent shaded area around the regression line represents the confidence level of the trend.\n",
    "\n",
    "From the graph, its clear that most dengue cases cluster between 0 to 400 cases regardless of rainfall amount. There are also some outlier points with 600 to 800 dengue cases across different rainfall levels. Although there are some point that shows the increase in dengue cases with increased rainfall, the relationship is not as strong, as indicated by the regression line. The positive trend suggests that higher rainfall could be associated with a slight increase in dengue case. However, the spreadness of data points suggests that other factors could also be a factor of dengue outbreaks. The wide confidence around the regression line shows the fluctuations in the relationship. This suggest that rainfall alone is not a strong factor of dengue cases.\n",
    "\n",
    "Although rainfall provides breeding grounds for dengue mosquitoes, it appears that rainfall alone does not fully determine the number of dengue cases. Other factors such as temperature and environent conditions are likely to be the factor. To find the factors that might have stronger correlation with the dengue cases, a correlation heatmap will be utilised for the next analysis."
   ]
  },
  {
   "cell_type": "markdown",
   "metadata": {},
   "source": [
    "### Correlation Between Weather Conditions and Dengue Cases (Correlation Heatmap)"
   ]
  },
  {
   "cell_type": "code",
   "execution_count": null,
   "metadata": {},
   "outputs": [
    {
     "data": {
      "image/png": "[encoded data removed]",
      "text/plain": [
       "<Figure size 1000x500 with 2 Axes>"
      ]
     },
     "metadata": {},
     "output_type": "display_data"
    }
   ],
   "source": [
    "# Use information from the merged dataset\n",
    "correlation_matrix = merged_data[['Weekly Rainfall', 'Mean Temperature', 'Dengue Cases', 'DHF Cases']].corr()\n",
    "plt.figure(figsize=(10, 5))\n",
    "\n",
    "# Plot the heatmap\n",
    "sns.heatmap(correlation_matrix, annot=True, cmap='hot', fmt='.3f')\n",
    "plt.title(\"Correlation Between Weather Conditions and Dengue Cases\")\n",
    "plt.show()"
   ]
  },
  {
   "cell_type": "markdown",
   "metadata": {},
   "source": [
    "**Analysis from Correlation Between Weather Conditions and Dengue Cases (Correlation Heatmap)**\n",
    "\n",
    "The heatmap shows the correlation level for weekly rainfall, mean temperature, maximum temperature, minimum temperature, dengue cases, and DHF cases. The colour gradient in the graph indicates the strength of the correlation, which the white and brighter red shades indicate positive correlations, while the darker shades indicate weak correlation. The correlation values are shown in each of the cell.\n",
    "\n",
    "In the heatmap, we can see a weak correlation of 0.041 between rainfall and dengue cases, which aligns with the previous \"Rainfall vs Dengue Cases (Scatter Plot with Regression Line)\" analysis. In contrast to the rainfall, mean temperature has a slightly stronger positive correlation of 0.137, which indicates that temperature might be the bigger factor than rainfall for dengue outbreaks. DHF and dengue cases have a positive corelation of 0.31, which means DHF cases usually occur when there is a dengue outbreak."
   ]
  },
  {
   "cell_type": "code",
   "execution_count": null,
   "metadata": {},
   "outputs": [],
   "source": []
  },
  {
   "cell_type": "code",
   "execution_count": null,
   "metadata": {},
   "outputs": [
    {
     "data": {
      "image/png": "[encoded data removed]",
      "text/plain": [
       "<Figure size 1400x700 with 1 Axes>"
      ]
     },
     "metadata": {},
     "output_type": "display_data"
    }
   ],
   "source": [
    "plt.figure(figsize=(14, 7))\n",
    "sns.lineplot(data=merged_data, x='Eweek', y='Weekly Rainfall', label='Weekly Rainfall')\n",
    "sns.lineplot(data=merged_data, x='Eweek', y='Mean Temperature', label='Mean Temperature')\n",
    "sns.lineplot(data=merged_data, x='Eweek', y='Dengue Cases', label='Dengue Cases')\n",
    "sns.lineplot(data=merged_data, x='Eweek', y='DHF Cases', label='DHF Cases')\n",
    "plt.title(\"Weekly Trends: Rainfall, Temperature, and Disease Cases\")\n",
    "plt.xlabel(\"Epidemiological Week\")\n",
    "plt.ylabel(\"Values\")\n",
    "plt.legend()\n",
    "plt.grid()\n",
    "plt.show()"
   ]
  }
 ],
 "metadata": {
  "kernelspec": {
   "display_name": "Python 3",
   "language": "python",
   "name": "python3"
  },
  "language_info": {
   "codemirror_mode": {
    "name": "ipython",
    "version": 3
   },
   "file_extension": ".py",
   "mimetype": "text/x-python",
   "name": "python",
   "nbconvert_exporter": "python",
   "pygments_lexer": "ipython3",
   "version": "3.13.0"
  }
 },
 "nbformat": 4,
 "nbformat_minor": 2
}
