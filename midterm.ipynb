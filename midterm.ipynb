{
 "cells": [
  {
   "cell_type": "markdown",
   "metadata": {},
   "source": [
    "## CM3005 - Data Science Midterm"
   ]
  },
  {
   "cell_type": "markdown",
   "metadata": {},
   "source": [
    "### Task 1: Domain-Specific Area and Project Objectives\n",
    "\n",
    "This project focuses on the environmental health research, addressing the challenge of dengue fever prediction in environments with tropical climate. Dengue fever still remains a health challenge in Singapore, with its tropical climate, it creates an ideal conditions for disease transmission. The desease outbreaks poses risks to the population health and healthare resources. This project aims to develop a linear regression model that extinguish the relationship between weather and dengue cases, allowing us to predict and mitigate the disease outbreaks.\n",
    "\n",
    "Linear regression is an approach that helps us understand how different factors can have some form of relationship that may leads to some serious causes. In this project, this approach allows us to examine the relationship between weather conditions and disease transmission. By analysing weather temperature, rainfall, windspeed, the linear regression model can identify environmental factors that contributes to disease spread. By understanding the factors and relationship, the model will provide a tool for predicting disease outbreak possibilities.\n",
    "\n",
    "By utilising the linear regression model, the research addressed the challenge where the predictive capabilities in current disease monitering systems are limited. With the linear regression model, it creates an early warning system for the relevant authorities for potential dengue outbreaks. This system allows the relevant authorities to implement prevention strategies, as well as spreading awareness to the public improve the community health preparedness.\n"
   ]
  },
  {
   "cell_type": "markdown",
   "metadata": {},
   "source": [
    "### Task 2: Dataset Description\n",
    "This project utilises two datasets, namely `sg_weather_record` and `sg_dengue_record`.\n",
    "\n",
    "**1. Singapore Weather Dataset `(sg_weather_record)`:**\n",
    "\n",
    "Singapore weather dataset, collected by the National Environment Agency (NEA) of Singapore providing Singapore's historical daily weather records ranging from 2009 to 2017. This dataset was acquired from a public source at Singapore's Open Data Portal, ensuring that the data is accurate and reliable. The data were stored in a CSV file, containing approximately 2800 entries.\n",
    "\n",
    "Data Source:\n",
    "https://data.gov.sg/datasets?resultId=d_03bb2eb67ad645d0188342fa74ad7066&page=1\n",
    "\n",
    "Column Legend:\n",
    "|           Title          |        Column name       |     Data type     | Unit of measure |\n",
    "|:------------------------:|:------------------------:|:-----------------:|:---------------:|\n",
    "| Date                     | date                     | Date (YYYY-MM-DD) | -               |\n",
    "| Station                  | station                  | Text              | -               |\n",
    "| Daily rainfall total     | daily_rainfall_total     | Numeric           | mm              |\n",
    "| Highest 30 min rainfall  | highest_30_min_rainfall  | Numeric           | mm              |\n",
    "| Highest 60 min rainfall  | highest_60_min_rainfall  | Numeric           | mm              |\n",
    "| Highest 120 min rainfall | highest_120_min_rainfall | Numeric           | mm              |\n",
    "| Mean temperature         | mean_temperature         | Numeric           | Degrees celcius |\n",
    "| Maximum temperature      | maximum_temperature      | Numeric           | Degrees celcius |\n",
    "| Minimum temperature      | minimum_temperature      | Numeric           | Degrees celcius |\n",
    "| Mean wind speed          | mean_wind_speed          | Numeric           | Km/h            |\n",
    "| Max wind speed           | max_wind_speed           | Numeric           | Km/h            |\n",
    "\n",
    "<br>\n",
    "\n",
    "**2. Singapore Dengue Outbreak Dataset `(sg_weather_record)`:**\n",
    "\n",
    "Singapore dengue outbreak dataset, collected by the Ministry of Health (MOH) of Singapore providing weekly number of lab-confirmed dengue and dengue haemorrhagic fever cases from 2014 to 2018 in Singapore. This dataset was acquired from a public source at Singapore's Open Data Portal, ensuring that the data is accurate and reliable. The data were stored in a CSV file, containing approximately 530 entries.\n",
    "\n",
    "Data Source:\n",
    "https://data.gov.sg/datasets?resultId=d_ac1eecf0886ff0bceefbc51556247015&page=1\n",
    "\n",
    "Column Legend:\n",
    "|    Title    | Column name |  Data type  | Unit of measure |\n",
    "|:-----------:|:-----------:|:-----------:|:---------------:|\n",
    "| Year        | year        | Year (YYYY) | -               |\n",
    "| Eweek       | eweek       | Numeric     | Week            |\n",
    "| Type dengue | type_dengue | Text        | -               |\n",
    "| Number      | number      | Text        | -               |"
   ]
  }
 ],
 "metadata": {
  "kernelspec": {
   "display_name": "Python 3",
   "language": "python",
   "name": "python3"
  },
  "language_info": {
   "codemirror_mode": {
    "name": "ipython",
    "version": 3
   },
   "file_extension": ".py",
   "mimetype": "text/x-python",
   "name": "python",
   "nbconvert_exporter": "python",
   "pygments_lexer": "ipython3",
   "version": "3.13.0"
  }
 },
 "nbformat": 4,
 "nbformat_minor": 2
}
